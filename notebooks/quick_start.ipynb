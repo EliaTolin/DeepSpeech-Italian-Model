{
  "nbformat": 4,
  "nbformat_minor": 0,
  "metadata": {
    "colab": {
      "name": "quick_start.ipynb",
      "provenance": [],
      "toc_visible": true
    },
    "kernelspec": {
      "name": "python3",
      "display_name": "Python 3"
    }
  },
  "cells": [
    {
      "cell_type": "markdown",
      "metadata": {
        "id": "wvQf20jtVjPc"
      },
      "source": [
        "# QUICK START"
      ]
    },
    {
      "cell_type": "code",
      "metadata": {
        "id": "JUYhNqx6Vij2"
      },
      "source": [
        "# Installa DeepSpeech\n",
        "!pip3 install deepspeech==0.9.3"
      ],
      "execution_count": null,
      "outputs": []
    },
    {
      "cell_type": "code",
      "metadata": {
        "id": "rCTM8CLuW5Ih"
      },
      "source": [
        "# Scarica e scompatta i file per il modello italiano (verifica l'ultima versione rilasciata!)\n",
        "\n",
        "# !curl -LO https://github.com/MozillaItalia/DeepSpeech-Italian-Model/releases/download/2020.08.07/model_tensorflow_it.tar.xz\n",
        "# !tar xvf model_tensorflow_it.tar.xz\n",
        "\n",
        "# Oppure utilizza il modello italiano con transfer learning da quello inglese (verifica l'ultima versione rilasciata!)\n",
        "!curl -LO https://github.com/MozillaItalia/DeepSpeech-Italian-Model/releases/download/2020.08.07/transfer_model_tensorflow_it.tar.xz\n",
        "!tar xf transfer_model_tensorflow_it.tar.xz"
      ],
      "execution_count": null,
      "outputs": []
    },
    {
      "cell_type": "code",
      "metadata": {
        "id": "7oCwW2rVXKOL"
      },
      "source": [
        "# estrai un sample a caso dal dataset cv_tiny\n",
        "!wget -c https://github.com/MozillaItalia/DeepSpeech-Italian-Model/files/4610711/cv-it_tiny.tar.gz -O - | tar -xz common_voice_it_19574474.wav\n",
        "\n",
        "# e sentiamocelo!\n",
        "import numpy as np\n",
        "from IPython.display import Audio\n",
        "from scipy.io import wavfile\n",
        "\n",
        "data = wavfile.read('common_voice_it_19574474.wav')\n",
        "\n",
        "framerate = data[0]\n",
        "sounddata = data[1]\n",
        "\n",
        "Audio(sounddata,rate=framerate)"
      ],
      "execution_count": null,
      "outputs": []
    },
    {
      "cell_type": "code",
      "metadata": {
        "id": "Bxae2L-QXkUU"
      },
      "source": [
        "# Trascrive il file audio appena scaricato (audio MONO, formato WAV e campionato a 16000Hz)\n",
        "!deepspeech --model output_graph.pbmm --scorer scorer --audio common_voice_it_19574474.wav"
      ],
      "execution_count": null,
      "outputs": []
    },
    {
      "cell_type": "code",
      "metadata": {
        "id": "jq4uXBnwZ9_B"
      },
      "source": [
        ""
      ],
      "execution_count": null,
      "outputs": []
    }
  ]
}